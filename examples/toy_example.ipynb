{
 "cells": [
  {
   "cell_type": "markdown",
   "id": "5b2ce61b",
   "metadata": {},
   "source": [
    "# Tutorial on a toy example\n",
    "\n",
    "We will design a graph with four overlapping communities in a central node. \n",
    "The nodes in each community have a certain weight, and the weight for the central node will be the average\n",
    "of the weights of all the communities.\n",
    "\n",
    "A GNN will be trained to predict the weights of all nodes\n",
    "\n",
    "The explainer algorithm will be used to predict the most relevant nodes and communities for the central node\n",
    "\n",
    "# This experiment is a replica of the Experiment in Section 5.1 of \"Community explanations in knowledge graphs with XP-GNN\", by Andrés Martínez Mora, Dimitris Polychronopoulos, Michaël Ughetto, and Sebastian Nilsson"
   ]
  },
  {
   "cell_type": "markdown",
   "id": "8bed65a7",
   "metadata": {},
   "source": [
    "# Display example graph with communities colored differently, and all community weights"
   ]
  },
  {
   "cell_type": "code",
   "execution_count": null,
   "id": "719bf009",
   "metadata": {},
   "outputs": [],
   "source": [
    "import matplotlib.pyplot as plt\n",
    "import matplotlib.image as mpimg\n",
    "\n",
    "plt.figure()\n",
    "plt.imshow(mpimg.imread(\"artificial_graph_networkx.png\"))"
   ]
  },
  {
   "cell_type": "markdown",
   "id": "573d14aa",
   "metadata": {},
   "source": [
    "# Import libraries for analysis"
   ]
  },
  {
   "cell_type": "code",
   "execution_count": null,
   "id": "06d7862b",
   "metadata": {},
   "outputs": [],
   "source": [
    "import pandas as pd\n",
    "import os,sys\n",
    "import numpy as np\n",
    "import networkx\n",
    "import torch\n",
    "from torch import nn\n",
    "import torch.nn.functional as F\n",
    "from torch_geometric.nn import GCNConv,Linear\n",
    "from sklearn.metrics import r2_score\n",
    "from torch_geometric.data import Data\n",
    "import time\n",
    "\n",
    "from pathway_explanations.explainer import Explainer, set_seed"
   ]
  },
  {
   "cell_type": "code",
   "execution_count": null,
   "id": "f4172404",
   "metadata": {},
   "outputs": [],
   "source": [
    "seed = 0\n",
    "set_seed(seed)"
   ]
  },
  {
   "cell_type": "markdown",
   "id": "deae65f1",
   "metadata": {},
   "source": [
    "# Set up graph data"
   ]
  },
  {
   "cell_type": "code",
   "execution_count": null,
   "id": "baeb54dd",
   "metadata": {},
   "outputs": [],
   "source": [
    "# Auxiliary function\n",
    "\n",
    "def manual_graph_labels(num_nodes,communities,weights):\n",
    "    \"\"\"\n",
    "    Setup labels for an artificial graph with node features,\n",
    "    edge indices, and a given community structure\n",
    "    \n",
    "    Params\n",
    "    ------\n",
    "    num_nodes : int\n",
    "        Node number\n",
    "    communities : list of lists of int\n",
    "        Communities to analyze\n",
    "    weights : list of float\n",
    "        Community-wise weights\n",
    "        \n",
    "    Returns\n",
    "    -------\n",
    "    Y : torch.tensor\n",
    "        Node-wise labels based on community-wise weights\n",
    "    \n",
    "    \"\"\"\n",
    "    \n",
    "    # Build up node-wise labels\n",
    "    weight_sum = torch.zeros((num_nodes))\n",
    "    weight_num = torch.zeros((num_nodes))\n",
    "    for weight,community in zip(weights,communities):\n",
    "        community_tensor = torch.tensor(community,\n",
    "                                        dtype=int)\n",
    "        weight_sum[community] += weight\n",
    "        weight_num[community] += 1\n",
    "        \n",
    "    Y = weight_sum/(weight_num + 1e-15)\n",
    "    \n",
    "    return Y"
   ]
  },
  {
   "cell_type": "code",
   "execution_count": null,
   "id": "6c6652c1",
   "metadata": {},
   "outputs": [],
   "source": [
    "# Define device where to complete computations\n",
    "device = torch.device(\"cuda\" if torch.cuda.is_available() else \"cpu\")\n",
    "\n",
    "# Setup edge index\n",
    "\n",
    "edge_index = torch.tensor([[0,1],[0,2],[0,4],\n",
    "                             [1,0],[1,2],[1,5],\n",
    "                             [2,1],[2,0],[2,4],[2,5],[2,6],[2,7],\n",
    "                             [3,2],[3,4],[3,9],\n",
    "                             [4,0],[4,2],[4,3],[4,9],\n",
    "                             [5,1],[5,2],[5,6],\n",
    "                             [6,5],[6,2],[6,7],\n",
    "                             [7,6],[7,2],[7,8],\n",
    "                             [8,7],[8,9],\n",
    "                             [9,3],[9,4],[9,8],[9,10],\n",
    "                             [10,9],[10,11],[10,19],[10,28],\n",
    "                             [11,10],[11,16],[11,12],[11,18],\n",
    "                             [12,11],[12,18],[12,13],\n",
    "                             [13,12],[13,17],[13,14],\n",
    "                             [14,13],[14,15],\n",
    "                             [16,11],[16,18],[16,17],[16,15],\n",
    "                             [17,15],[17,13],[17,18],[17,16],\n",
    "                             [18,17],[18,12],[18,11],[18,16],\n",
    "                             [19,10],[19,25],[19,24],\n",
    "                             [20,25],[20,26],[20,21],\n",
    "                             [21,20],[21,26],[21,27],[21,22],\n",
    "                             [22,21],[22,27],[22,23],\n",
    "                             [23,22],[23,24],\n",
    "                             [24,23],[24,27],[24,19],[24,27],\n",
    "                             [25,24],[25,19],[25,20],\n",
    "                             [26,27],[26,21],[26,20],[26,25],\n",
    "                             [27,24],[27,26],[27,21],[27,22],\n",
    "                             [28,10],[28,30],[28,29],\n",
    "                             [29,28],[29,30],[29,35],\n",
    "                             [30,31],[30,32],[30,34],[30,35],[30,29],\n",
    "                             [31,30],[31,28],[31,32],\n",
    "                             [32,31],[32,33],[32,30],\n",
    "                             [33,32],[33,34],\n",
    "                             [34,33],[34,35],[34,30],\n",
    "                             [35,30],[35,34],[34,29]],\n",
    "                              dtype=torch.long,\n",
    "                              device=device)\n",
    "\n",
    "\n",
    "edge_index = edge_index.T\n",
    "\n",
    "# Set up community weights and community structure\n",
    "weights = [1.0,0.6,0.25,0.75]\n",
    "\n",
    "communities = [[0,1,2,3,4,5,6,7,8,9,10],\n",
    "               [10,11,12,13,14,15,16,17,18],\n",
    "               [10,19,20,21,22,23,24,25,26,27],\n",
    "               [10,28,29,30,31,32,33,34,35]]\n",
    "community_names = [\"blue\",\"red\",\"green\",\"orange\"]\n",
    "\n",
    "# Set node features as normally distributed\n",
    "\n",
    "length = 16 # Feature size\n",
    "features = torch.randn(int(torch.max(edge_index[0]).item())+1,\n",
    "                       length, device=device)\n",
    "\n",
    "node_names = [\"{}\".format(i) for i in range(features.shape[0])]\n",
    "\n",
    "# Obtain training labels\n",
    "Y = manual_graph_labels(features.shape[0],\n",
    "                        communities,weights)\n",
    "Y = Y.to(device)\n",
    "\n",
    "# Define train and test mask\n",
    "# Central node is in the test set\n",
    "test_size = 0.2\n",
    "train_mask = torch.rand(Y.shape, device=device)\n",
    "train_mask[train_mask < test_size] = 0\n",
    "train_mask[train_mask > test_size] = 1\n",
    "train_mask = train_mask.bool()\n",
    "train_mask[10] = False\n",
    "test_mask = ~train_mask"
   ]
  },
  {
   "cell_type": "markdown",
   "id": "4b5fe23d",
   "metadata": {},
   "source": [
    "# Model for training artificial graph"
   ]
  },
  {
   "cell_type": "code",
   "execution_count": null,
   "id": "91c4be3c",
   "metadata": {},
   "outputs": [],
   "source": [
    "class GCN_homo(torch.nn.Module): # Homogeneous GCN\n",
    "    def __init__(self, node_features):\n",
    "        super().__init__()\n",
    "        \n",
    "        # Load hyperparameters\n",
    "        seed = 0\n",
    "        hidden_channels = 8\n",
    "        out_neurons = 1\n",
    "        conv_layers = [16, 8, 8]\n",
    "        fc_layers = [8, 8, 16]\n",
    "\n",
    "        seed,out_neurons = int(seed),int(out_neurons)\n",
    "        \n",
    "        torch.manual_seed(seed)\n",
    "        \n",
    "        conv_list,fc_list = [],[]\n",
    "        \n",
    "        for enum_conv_layer,conv_layer in enumerate(conv_layers): # Setup convolutional backbone\n",
    "            assert isinstance(conv_layer,int) or isinstance(conv_layer,float),\"Size of convolutional layer is not numeric\"\n",
    "            conv_layer = abs(int(conv_layer))\n",
    "            \n",
    "            if enum_conv_layer == 0:\n",
    "                conv = GCNConv(node_features,conv_layer)\n",
    "            else:\n",
    "                conv = GCNConv(conv_layers[enum_conv_layer - 1],conv_layer)\n",
    "                \n",
    "            conv_list.append(conv)\n",
    "            conv_list.append(nn.ReLU())\n",
    "            \n",
    "        self.conv = nn.ModuleList(conv_list)\n",
    "        \n",
    "        for enum_fc_layer,fc_layer in enumerate(fc_layers): # Setup linear backbone\n",
    "        \n",
    "            assert isinstance(fc_layer,int) or isinstance(fc_layer,float),\"Size of convolutional layer is not numeric\"\n",
    "        \n",
    "            if enum_fc_layer == (len(fc_layers) - 1): # Last FC layer\n",
    "                lin = Linear(fc_layers[enum_fc_layer],out_neurons)\n",
    "                act = nn.Sigmoid()\n",
    "            else:\n",
    "                lin = Linear(fc_layers[enum_fc_layer],fc_layers[enum_fc_layer + 1])\n",
    "                act = nn.ReLU()\n",
    "            fc_list.append(lin)\n",
    "            fc_list.append(act)\n",
    "            \n",
    "        self.fc = nn.ModuleList(fc_list[:(-1)])\n",
    "        \n",
    "        \n",
    "    def forward(self,x,edge_index):\n",
    "        \n",
    "        for enum_c,c in enumerate(self.conv): # Convolutional backbone\n",
    "            if enum_c % 2 == 0: # Even layer: convolution\n",
    "                x = c(x, edge_index)\n",
    "            else: # Odd layer: activation function\n",
    "                x = c(x)\n",
    "                \n",
    "        for l in self.fc: # Fully-connected backbone\n",
    "            x = l(x)\n",
    "        \n",
    "        return x"
   ]
  },
  {
   "cell_type": "markdown",
   "id": "b1343d1d",
   "metadata": {},
   "source": [
    "# Model training"
   ]
  },
  {
   "cell_type": "code",
   "execution_count": null,
   "id": "49dbd91d",
   "metadata": {},
   "outputs": [],
   "source": [
    "# Call architecture\n",
    "model = GCN_homo(features.shape[-1]).to(device)\n",
    "print(model)\n",
    "\n",
    "# Load optimizer\n",
    "optimizer = torch.optim.Adam(model.parameters(), lr=0.1)\n",
    "\n",
    "model.train()\n",
    "\n",
    "for epoch in range(500):\n",
    "    optimizer.zero_grad()\n",
    "    H = model(features, \n",
    "              edge_index)\n",
    "    \n",
    "    # Use MSE as loss for weight prediction\n",
    "    loss = F.mse_loss(H.flatten(), \n",
    "                      Y.flatten())\n",
    "    loss.backward()\n",
    "    optimizer.step()\n",
    "    \n",
    "    r2_val = r2_score(Y[test_mask].cpu().detach().numpy(),\n",
    "                      H[test_mask].cpu().detach().numpy())\n",
    "    \n",
    "    print(\"Epoch:\", epoch+1, \"// Train loss:\", round(loss.item(),4),\"// Validation R2:\", round(r2_val,4))    "
   ]
  },
  {
   "cell_type": "markdown",
   "id": "9784c4af",
   "metadata": {},
   "source": [
    "# Set up hyperparameters for explanation pipeline"
   ]
  },
  {
   "cell_type": "code",
   "execution_count": null,
   "id": "26d3d749",
   "metadata": {},
   "outputs": [],
   "source": [
    "explanation_params = {\n",
    "                        \"seed\": seed,\n",
    "                        \"interpret_samples\": 20,\n",
    "                        \"epochs\": 50,\n",
    "                        \"optimizer\": \"adam\",\n",
    "                        \"lr\": 0.01,\n",
    "                        \"lr_patience\": 10,\n",
    "                        \"l1_lambda\": 1e-4\n",
    "                    }"
   ]
  },
  {
   "cell_type": "markdown",
   "id": "6fb80ce6",
   "metadata": {},
   "source": [
    "# Explanation pipeline execution"
   ]
  },
  {
   "cell_type": "code",
   "execution_count": null,
   "id": "dce14ec2",
   "metadata": {},
   "outputs": [],
   "source": [
    "query_node = \"10\" # The central node is the node in position \"10\"\n",
    "repeats = 10 # Number of initializations to be averaged for the pipeline\n",
    "query_type = None\n",
    "\n",
    "t1 = time.time()\n",
    "\n",
    "# Define Explainer object\n",
    "pipeline = Explainer(\n",
    "        features,\n",
    "        edge_index,\n",
    "        model.float(),\n",
    "        explanation_params,\n",
    "        node_names,\n",
    "        communities,\n",
    "        community_names,\n",
    "        query_type,\n",
    "        problem=\"node_prediction\"\n",
    "    )\n",
    "\n",
    "\n",
    "# Run Explainer object\n",
    "node_df, community_df = pipeline.run(query_node, repeats)\n",
    "\n",
    "print(\"Time ellapsed for explanation for node {}: {}sec\".format(query_node,round(time.time() - t1, 4)))"
   ]
  },
  {
   "cell_type": "markdown",
   "id": "8f5b0dcd",
   "metadata": {},
   "source": [
    "# Result checking"
   ]
  },
  {
   "cell_type": "code",
   "execution_count": null,
   "id": "c7d86f9a",
   "metadata": {},
   "outputs": [],
   "source": [
    "# Community ranking\n",
    "community_df"
   ]
  },
  {
   "cell_type": "code",
   "execution_count": null,
   "id": "cb886c2f",
   "metadata": {},
   "outputs": [],
   "source": [
    "# Node ranking\n",
    "node_df"
   ]
  }
 ],
 "metadata": {
  "kernelspec": {
   "display_name": "Python 3 (ipykernel)",
   "language": "python",
   "name": "python3"
  },
  "language_info": {
   "codemirror_mode": {
    "name": "ipython",
    "version": 3
   },
   "file_extension": ".py",
   "mimetype": "text/x-python",
   "name": "python",
   "nbconvert_exporter": "python",
   "pygments_lexer": "ipython3",
   "version": "3.10.4"
  }
 },
 "nbformat": 4,
 "nbformat_minor": 5
}
